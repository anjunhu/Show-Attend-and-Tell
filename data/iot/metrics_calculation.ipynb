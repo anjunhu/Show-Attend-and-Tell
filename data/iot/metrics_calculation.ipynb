{
 "cells": [
  {
   "cell_type": "code",
   "execution_count": 21,
   "metadata": {},
   "outputs": [],
   "source": [
    "import pandas as pd\n",
    "from pycocoevalcap.cider.cider import Cider\n",
    "from pycocoevalcap.bleu.bleu import Bleu\n",
    "from pycocoevalcap.meteor.meteor import Meteor\n",
    "from pycocoevalcap.rouge.rouge import Rouge\n",
    "cider_scorer = Cider()\n",
    "bleu_scorer = Bleu(4)\n",
    "meteor_scorer = Meteor()\n",
    "rouge_scorer = Rouge()"
   ]
  },
  {
   "cell_type": "code",
   "execution_count": 22,
   "metadata": {},
   "outputs": [
    {
     "name": "stdout",
     "output_type": "stream",
     "text": [
      "../../model_cocopretrain_iotfinetune/model_resnet152_1.csv\n",
      "../../model_cocopretrain_iotfinetune/model_resnet152_5.csv\n"
     ]
    }
   ],
   "source": [
    "!ls ../../model_cocopretrain_iotfinetune/*.csv"
   ]
  },
  {
   "cell_type": "code",
   "execution_count": 23,
   "metadata": {},
   "outputs": [],
   "source": [
    "import pandas as pd\n",
    "\n",
    "# Define file paths and their corresponding column names in a dictionary (flipped)\n",
    "file_paths = {\n",
    "    'vgg19': 'model_vgg19_10_prediction_IMERIT_2024_03_25_TEST_v5.csv',\n",
    "    'rn152': 'model_resnet152_10_prediction_IMERIT_2024_03_25_TEST_v5.csv',\n",
    "    'target': 'metadata_IMERIT_2024_03_25_TEST_v5.csv',\n",
    "    'rn152_ft_highlr_1': '../../model_cocopretrain_iotfinetune/model_resnet152_1.csv',\n",
    "    'rn152_ft_highlr_5': '../../model_cocopretrain_iotfinetune/model_resnet152_5.csv',\n",
    "    'rn152_ft_1': '../../model_cocopretrain_iotfinetune_2/model_resnet152_1.csv',\n",
    "    'rn152_ft_5': '../../model_cocopretrain_iotfinetune_2/model_resnet152_5.csv',\n",
    "    'rn152_ft_10': '../../model_cocopretrain_iotfinetune_2/model_resnet152_10.csv',\n",
    "}\n",
    "\n",
    "# Initialize an empty list to store the dataframes\n",
    "dataframes = []\n",
    "\n",
    "# Loop through the file paths and load the CSV files\n",
    "for column_name, path in file_paths.items():\n",
    "    df = pd.read_csv(path).rename(columns={'text': column_name})\n",
    "    dataframes.append(df)\n",
    "\n",
    "# Start merging with the first dataframe\n",
    "merged_df = dataframes[0]\n",
    "\n",
    "# Loop through the rest of the dataframes and merge them on 'file_name'\n",
    "for df in dataframes[1:]:\n",
    "    merged_df = pd.merge(merged_df, df, on='file_name')\n",
    "\n",
    "# Now `merged_df` contains the merged data from all the CSV files\n"
   ]
  },
  {
   "cell_type": "code",
   "execution_count": 24,
   "metadata": {},
   "outputs": [],
   "source": [
    "merged_df \n",
    "merged_df.to_csv(\"caption_comparison.csv\")"
   ]
  },
  {
   "cell_type": "code",
   "execution_count": 25,
   "metadata": {},
   "outputs": [
    {
     "name": "stdout",
     "output_type": "stream",
     "text": [
      "-------------------- VGG19 --------------------\n",
      "CIDEr 0.058380726233160894\n",
      "{'testlen': 440, 'reflen': 737, 'guess': [440, 380, 320, 260], 'correct': [56, 3, 0, 0]}\n",
      "ratio: 0.5970149253723243\n",
      "BLEU [0.06480172625884807, 0.01613941277325973, 7.455765409991548e-08, 1.6878686441854953e-10]\n",
      "ROUGE 0.09194621172081302 \n",
      "\n",
      "-------------------- RN152 --------------------\n",
      "CIDEr 0.031495960447011424\n",
      "{'testlen': 440, 'reflen': 722, 'guess': [440, 380, 320, 260], 'correct': [55, 3, 0, 0]}\n",
      "ratio: 0.6094182825476324\n",
      "BLEU [0.06585166063936791, 0.016549335255775628, 7.668126745747093e-08, 1.7385524791002788e-10]\n",
      "ROUGE 0.09237822120610485 \n",
      "\n",
      "-------------------- TARGET --------------------\n",
      "CIDEr 10.0\n",
      "{'testlen': 440, 'reflen': 440, 'guess': [440, 380, 320, 260], 'correct': [440, 380, 320, 260]}\n",
      "ratio: 0.9999999999977273\n",
      "BLEU [0.9999999999954544, 0.999999999995275, 0.9999999999950507, 0.9999999999947583]\n",
      "ROUGE 1.0 \n",
      "\n",
      "-------------------- RN152_FT_HIGHLR_1 --------------------\n",
      "CIDEr 0.045983458500352646\n",
      "{'testlen': 440, 'reflen': 643, 'guess': [440, 380, 320, 260], 'correct': [60, 2, 0, 0]}\n",
      "ratio: 0.6842923794701644\n",
      "BLEU [0.08596682602361637, 0.016889033807634273, 8.252090523751467e-08, 1.9212670306705902e-10]\n",
      "ROUGE 0.09523412039416065 \n",
      "\n",
      "-------------------- RN152_FT_HIGHLR_5 --------------------\n",
      "CIDEr 0.02301997380804776\n",
      "{'testlen': 440, 'reflen': 396, 'guess': [440, 380, 320, 260], 'correct': [94, 4, 0, 0]}\n",
      "ratio: 1.1111111111083054\n",
      "BLEU [0.2136363636358781, 0.04742155446355768, 1.9154340252146478e-07, 4.054684448738671e-10]\n",
      "ROUGE 0.1914385657493451 \n",
      "\n",
      "-------------------- RN152_FT_1 --------------------\n",
      "CIDEr 0.05379157879452509\n",
      "{'testlen': 440, 'reflen': 728, 'guess': [440, 380, 320, 260], 'correct': [55, 4, 2, 1]}\n",
      "ratio: 0.6043956043947742\n",
      "BLEU [0.06495977828532953, 0.018850710543364072, 0.010489545294777377, 0.006930391842613625]\n",
      "ROUGE 0.08640095445706135 \n",
      "\n",
      "-------------------- RN152_FT_5 --------------------\n",
      "CIDEr 0.029281878802774716\n",
      "{'testlen': 440, 'reflen': 755, 'guess': [440, 380, 320, 260], 'correct': [61, 2, 0, 0]}\n",
      "ratio: 0.5827814569528705\n",
      "BLEU [0.06775818913722924, 0.013202203145384058, 6.432934933159694e-08, 1.4956662371379594e-10]\n",
      "ROUGE 0.09133951102502019 \n",
      "\n",
      "-------------------- RN152_FT_10 --------------------\n",
      "CIDEr 0.03233785809518633\n",
      "{'testlen': 440, 'reflen': 761, 'guess': [440, 380, 320, 260], 'correct': [65, 2, 0, 0]}\n",
      "ratio: 0.5781865965826831\n",
      "BLEU [0.07122346775529989, 0.013443612145932947, 6.4815886959383e-08, 1.4990232643867273e-10]\n",
      "ROUGE 0.09783273070509976 \n",
      "\n"
     ]
    }
   ],
   "source": [
    "for model_name in file_paths.keys():\n",
    "    print('-'*20, model_name.upper(), '-'*20)\n",
    "    refer_captions = {}\n",
    "    predc_captions = {}\n",
    "    for i in range(len(merged_df)):\n",
    "        refer_captions[merged_df.iloc[i]['file_name']] = [str(merged_df.iloc[i][model_name])]\n",
    "        predc_captions[merged_df.iloc[i]['file_name']] = [str(merged_df.iloc[i]['target'])]\n",
    "    c, _ = cider_scorer.compute_score(refer_captions, predc_captions); print(\"CIDEr\", c)\n",
    "    b, _ = bleu_scorer.compute_score(refer_captions, predc_captions); print('BLEU', b)\n",
    "    r, _ = rouge_scorer.compute_score(refer_captions, predc_captions); print('ROUGE', r, '\\n')"
   ]
  }
 ],
 "metadata": {
  "kernelspec": {
   "display_name": "ecap",
   "language": "python",
   "name": "python3"
  },
  "language_info": {
   "codemirror_mode": {
    "name": "ipython",
    "version": 3
   },
   "file_extension": ".py",
   "mimetype": "text/x-python",
   "name": "python",
   "nbconvert_exporter": "python",
   "pygments_lexer": "ipython3",
   "version": "3.10.14"
  }
 },
 "nbformat": 4,
 "nbformat_minor": 2
}
